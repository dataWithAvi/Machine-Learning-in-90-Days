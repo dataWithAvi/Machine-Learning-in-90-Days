{
 "cells": [
  {
   "cell_type": "markdown",
   "id": "8979f1fd",
   "metadata": {},
   "source": [
    "# Python 🐍 Primer for ML 🧑‍💼 and DL 🧠 : Building a Solid Foundation 🚀"
   ]
  },
  {
   "cell_type": "markdown",
   "id": "6d38725e",
   "metadata": {},
   "source": [
    "## The Case for Python: Why It's the Better Choice for ML 💪\n",
    "\n",
    "|  | Python | R |\n",
    "|:--|:--|:--|\n",
    "| Industry usage | Widely used in many industries, including finance, healthcare, and technology | Commonly used in academic and research settings |\n",
    "| ML and DL support | Strong support with libraries and frameworks like NumPy, Pandas, and TensorFlow | Strong support with libraries and packages like caret and randomForest |\n",
    "| Syntax and ease of use | Simple and readable syntax; flexible and easy to learn | Syntax may be more complex and difficult for beginners; some find it more challenging to use than Python |\n",
    "| Other features | Wide range of applications beyond ML and DL; good for web development, scripting, and data analysis | Strong support for statistical analysis and data visualization; good for data manipulation and cleaning |\n",
    "\n",
    "\n",
    "Ultimately, the choice between Python and R for machine learning comes down to personal preference and the specific needs of your project. Both languages have their strengths and are widely used in the field of machine learning, so it's important to consider which one is the best fit for your goals and needs.\n",
    "\n",
    "> For me it is `Python` 💚!"
   ]
  },
  {
   "cell_type": "markdown",
   "id": "46e70ac2",
   "metadata": {},
   "source": [
    "## Which Python Version Are You Running?\n",
    "\n",
    "To check the Python version, run the command from next cell.\n",
    "\n",
    "**Note:** `!` is used to run terminal commands in Jupyter Notebooks."
   ]
  },
  {
   "cell_type": "code",
   "execution_count": 1,
   "id": "fba15966",
   "metadata": {},
   "outputs": [
    {
     "name": "stdout",
     "output_type": "stream",
     "text": [
      "Python 3.9.13\r\n"
     ]
    }
   ],
   "source": [
    "!python --version"
   ]
  },
  {
   "cell_type": "markdown",
   "id": "c413118e",
   "metadata": {},
   "source": [
    "## Python Basics 🐍\n",
    "\n",
    "### Topics covered in this Notebook 📙\n",
    "\n",
    "1. Commenting in Python\n",
    "2. Print\n",
    "    * Print single variable\n",
    "    * Print multiple variable\n",
    "3. Understanding Variables & Constants in Python\n",
    "    * Difference between variables and Constants\n",
    "    * Rules and Conventions for defining a variable or a constant\n",
    "4. Basic data types\n",
    "    * Integer (Int)\n",
    "    * Float\n",
    "    * Double\n",
    "    * String\n",
    "    * Boolean\n",
    "    * Complex Numbers\n",
    "5. Mutable V Immutable\n",
    "6. Collections\n",
    "    * List\n",
    "    * Tuple\n",
    "    * Set\n",
    "    * Dictionary\n",
    "7. Input from user\n",
    "8. Operators\n",
    "    * Arithmetic\n",
    "    * Assignment\n",
    "    * Logical\n",
    "    * Comparison\n",
    "    * Identity\n",
    "    * Membership\n",
    "9. Conditionals\n",
    "    * If, Elif, Else\n",
    "    * Ternary operator\n",
    "10. Loop\n",
    "    * For loop\n",
    "    * While loop\n",
    "11. Functions    \n",
    "12. List Comprehension"
   ]
  },
  {
   "cell_type": "markdown",
   "id": "37ef4195",
   "metadata": {},
   "source": [
    "### 💬 Commenting in Python\n",
    "\n",
    "In **Python**, comments are used to explain code and make it easier to understand. They are ignored by the interpreter and are not executed as part of the code.\n",
    "\n",
    "There is only one type of comment in Python:\n",
    "\n",
    "1. Single line comments:\n",
    "\n",
    "Single line comments start with a `#` symbol and continue until the end of the line. They are used to explain a single line of code.\n",
    "\n",
    "> Triple quoted strings, also known as multi-line docstrings, are not considered comments in Python. They are actually a type of string literal that can span multiple lines and are used to **document** Python code.\n",
    "\n",
    "> Multi line commets are used to explain multiple lines of code or a block of code, they start and end with `'''` or `\"\"\"`.\n",
    "\n",
    "> Triple quoted strings are used as comment by many developers but it is actually not a comment, it is similar to regular strings in python but it allows the string to be in multi-line. You will find no official reference for triple quoted strings to be a comment."
   ]
  },
  {
   "cell_type": "code",
   "execution_count": 2,
   "id": "1fab5728",
   "metadata": {},
   "outputs": [],
   "source": [
    "# This is a single line comment"
   ]
  },
  {
   "cell_type": "code",
   "execution_count": 3,
   "id": "a2edd02b",
   "metadata": {},
   "outputs": [
    {
     "data": {
      "text/plain": [
       "'\\nThis is an example\\nof multi line string,\\nthese are usually used as multi line comments and doc strings.\\n'"
      ]
     },
     "execution_count": 3,
     "metadata": {},
     "output_type": "execute_result"
    }
   ],
   "source": [
    "'''\n",
    "This is an example\n",
    "of multi line string,\n",
    "these are usually used as multi line comments and doc strings.\n",
    "'''"
   ]
  },
  {
   "cell_type": "markdown",
   "id": "4c21da53",
   "metadata": {},
   "source": [
    "### 📝 Printing in Python\n",
    "\n",
    "In Python, the `print()` function is used to output text or data to the console or a file.\n",
    "\n",
    "#### Print single variable\n",
    "To print a single variable, you can pass the variable as an argument to the `print()` function:"
   ]
  },
  {
   "cell_type": "code",
   "execution_count": 4,
   "id": "45180df2",
   "metadata": {},
   "outputs": [
    {
     "name": "stdout",
     "output_type": "stream",
     "text": [
      "Greetings from Avi!\n"
     ]
    }
   ],
   "source": [
    "print('Greetings from Avi!')"
   ]
  },
  {
   "cell_type": "markdown",
   "id": "4a16de0b",
   "metadata": {},
   "source": [
    "#### Print multiple variables\n",
    "\n",
    "To print multiple variables, you can pass them as a comma-separated list of arguments to the `print()` function:"
   ]
  },
  {
   "cell_type": "code",
   "execution_count": 5,
   "id": "713eb4e8",
   "metadata": {},
   "outputs": [
    {
     "name": "stdout",
     "output_type": "stream",
     "text": [
      "Good Evening Avi\n"
     ]
    }
   ],
   "source": [
    "name = 'Avi'\n",
    "greeting = 'Good Evening'\n",
    "\n",
    "print(greeting, name)"
   ]
  },
  {
   "cell_type": "markdown",
   "id": "7ea2ad67",
   "metadata": {},
   "source": [
    "We can also pass `sep` and `end` arguments to the `print()` function.\n",
    "\n",
    "> default value for `sep` = `' '` (blank space) and for `end` = `'\\n'` (new line)"
   ]
  },
  {
   "cell_type": "code",
   "execution_count": 6,
   "id": "e0572953",
   "metadata": {},
   "outputs": [
    {
     "name": "stdout",
     "output_type": "stream",
     "text": [
      "Good Evening, Avi\n",
      "***\t\t***"
     ]
    }
   ],
   "source": [
    "print(greeting, name, sep = ', ',  end = '\\n***\\t\\t***')"
   ]
  },
  {
   "cell_type": "markdown",
   "id": "29220a56",
   "metadata": {},
   "source": [
    "### 🔖  Understanding Variables & Constants in Python\n",
    "\n",
    "#### Difference between variable and constants in Py\n",
    "\n",
    "In **Python**, **variables** are used to store values that can be **changed** or **modified** during the course of a program. They are created when you assign a value to them and can be **accessed** and **modified** throughout the program."
   ]
  },
  {
   "cell_type": "code",
   "execution_count": 7,
   "id": "26b71874",
   "metadata": {},
   "outputs": [
    {
     "name": "stdout",
     "output_type": "stream",
     "text": [
      "Avi Kasliwal\n",
      "dataWithAvi\n"
     ]
    }
   ],
   "source": [
    "name = 'Avi Kasliwal'\n",
    "print(name)\n",
    "\n",
    "name = 'dataWithAvi'\n",
    "print(name)"
   ]
  },
  {
   "cell_type": "markdown",
   "id": "5647850a",
   "metadata": {},
   "source": [
    "On the other hand, constants are used to store values that should **not** be **changed** during the course of a program. In Python, constants are typically defined using **all capital** letters."
   ]
  },
  {
   "cell_type": "code",
   "execution_count": 8,
   "id": "fe5f342f",
   "metadata": {},
   "outputs": [],
   "source": [
    "MAX_SIZE = 1000\n",
    "PI = 3.14"
   ]
  },
  {
   "cell_type": "markdown",
   "id": "89c640a2",
   "metadata": {},
   "source": [
    "> **Note:** Constants in Python are not truly constants and can be modified, but it's generally considered good practice to treat them as such to avoid unintended changes to your code."
   ]
  },
  {
   "cell_type": "markdown",
   "id": "bcea1660",
   "metadata": {},
   "source": [
    "We can assign multiple variables to a single value as:"
   ]
  },
  {
   "cell_type": "code",
   "execution_count": 9,
   "id": "144779e1",
   "metadata": {},
   "outputs": [
    {
     "name": "stdout",
     "output_type": "stream",
     "text": [
      "7, 7, 7\n"
     ]
    }
   ],
   "source": [
    "a = b = c = 7\n",
    "\n",
    "print(a, b, c, sep = ', ')"
   ]
  },
  {
   "cell_type": "markdown",
   "id": "17646349",
   "metadata": {},
   "source": [
    "> **Note:** Variables in Python are case sensitive, i.e. `name` and `Name` are treated as different variables."
   ]
  },
  {
   "cell_type": "markdown",
   "id": "55a2139f",
   "metadata": {},
   "source": [
    "#### Rules and conventions for naming variables in Python\n",
    "\n",
    "Type | Naming Convention | Examples\n",
    ":-- | :-- | :--\n",
    "Function | Use a lowercase word or words. Separate words by underscores to improve readability. | function, my_function\n",
    "Variable | Use a lowercase single letter, word, or words. Separate words with underscores to improve readability. | x, var, my_variable\n",
    "Class | Start each word with a capital letter. Do not separate words with underscores. This style is called camel case or pascal case. | Model, MyClass\n",
    "Method | Use a lowercase word or words. Separate words with underscores to improve readability. | class_method, method\n",
    "Constant | Use an uppercase single letter, word, or words. Separate words with underscores to improve readability. | CONSTANT, MY_CONSTANT, MY_LONG_CONSTANT\n",
    "Module | Use a short, lowercase word or words. Separate words with underscores to improve readability. | module.py, my_module.py\n",
    "Package | Use a short, lowercase word or words. Do not separate words with underscores. | package, mypackage\n",
    "\n",
    "\n",
    "> Source: [Real Python: How to Write Beautiful Python Code With PEP 8](https://realpython.com/python-pep8/#naming-conventions)"
   ]
  },
  {
   "cell_type": "markdown",
   "id": "f1f1ed54",
   "metadata": {},
   "source": [
    "## 📊 Basic Data Types in Python: Int, Float, Double, String, Bool, and Complex Numbers\n",
    "\n",
    "This section will cover the six basic data types in **Python: integers, floating-point numbers, doubles, strings, Booleans, and complex numbers**. We'll go over the characteristics of each data type, how to declare variables of that type, and some examples of using them in your code.\n",
    "\n",
    "By the end of this section, you'll have a good understanding of the different data types in Python and how to use them effectively in your programs."
   ]
  },
  {
   "cell_type": "markdown",
   "id": "2c052e9e",
   "metadata": {},
   "source": [
    "Type | Characteristics | Example\n",
    ":-- | :-- | :--\n",
    "`int` | Integers are whole numbers that can be positive, negative, or zero. They do not have a decimal point. | `x = 5`\n",
    "`float` | Floating-point numbers are numbers with a decimal point. They can be positive, negative, or zero. | `y = 3.14`\n",
    "`double` | Doubles are similar to floats, but they have more precision (more digits after the decimal point). | `z = 3.141592`\n",
    "`string` | Strings are sequences of characters. They can be any combination of letters, numbers, and symbols, and are declared using single or double quotes. | `name = \"Avi\"`\n",
    "`bool` | Booleans are true/false values. They are often used in control statements (e.g. `if` statements) to determine the flow of a program. | `is_student = True`\n",
    "`complex` | Complex numbers are numbers with a real and imaginary part. They are written in the form `a + bj`, where `a` is the real part and `b` is the imaginary part. | `c = 3 + 4j`\n"
   ]
  },
  {
   "cell_type": "markdown",
   "id": "197028e9",
   "metadata": {},
   "source": [
    "We can use the `type()` function to check the data type of a variable"
   ]
  },
  {
   "cell_type": "code",
   "execution_count": 10,
   "id": "66f9671f",
   "metadata": {},
   "outputs": [
    {
     "name": "stdout",
     "output_type": "stream",
     "text": [
      "<class 'str'>\n",
      "<class 'int'>\n"
     ]
    }
   ],
   "source": [
    "name = 'Avi Kasliwal'\n",
    "age = 25\n",
    "\n",
    "print(type(name))\n",
    "print(type(age))"
   ]
  },
  {
   "cell_type": "markdown",
   "id": "b5ece2e7",
   "metadata": {},
   "source": [
    "### 🔁 Mutable vs Immutable Objects in Python\n",
    "\n",
    "#### Mutable Objects\n",
    "\n",
    "Mutable objects are objects that can be modified after they are created. Some examples of mutable objects in Python include **lists, dictionaries, and sets**. For example:"
   ]
  },
  {
   "cell_type": "code",
   "execution_count": 11,
   "id": "8d7bfde9",
   "metadata": {},
   "outputs": [
    {
     "name": "stdout",
     "output_type": "stream",
     "text": [
      "[1, 2, 3, 4, 5]\n",
      "[10, 2, 3, 4, 5]\n"
     ]
    }
   ],
   "source": [
    "numbers = [1, 2, 3, 4, 5]\n",
    "print(numbers)\n",
    "\n",
    "numbers[0] = 10\n",
    "print(numbers)"
   ]
  },
  {
   "cell_type": "markdown",
   "id": "1334e7ba",
   "metadata": {},
   "source": [
    "#### Immutable Objects\n",
    "\n",
    "Immutable objects are objects that cannot be modified after they are created. Some examples of immutable objects in Python include **integers, floats, and strings**. For example:"
   ]
  },
  {
   "cell_type": "code",
   "execution_count": 12,
   "id": "5393e365",
   "metadata": {},
   "outputs": [
    {
     "name": "stdout",
     "output_type": "stream",
     "text": [
      "Avi Kasliwal\n"
     ]
    }
   ],
   "source": [
    "name = 'Avi Kasliwal'\n",
    "print(name)\n",
    "\n",
    "# This will throw error.\n",
    "## name[0] = 'a'\n",
    "## print(name)"
   ]
  },
  {
   "cell_type": "markdown",
   "id": "abb33783",
   "metadata": {},
   "source": [
    "### 📚 Working with Collections in Python\n",
    "\n",
    "| Collection Type | Usage | Mutability | Example |\n",
    "| :-- | :-- | :-- | :-- |\n",
    "| List | A list is an ordered collection of items. Lists are useful for storing and manipulating data in a defined order. | Mutable | `[1, 2, 3]` |\n",
    "| Set | A set is an unordered collection of unique items. Sets are useful for storing and manipulating data when the order is not important and duplicate values should be avoided. | Mutable | `{1, 2, 3}` |\n",
    "| Tuple | A tuple is an immutable (unchangeable) list. Tuples are useful for storing data that should not be modified. | Immutable | `(1, 2, 3)` |\n",
    "| Dictionary | A dictionary is a collection of key-value pairs. Dictionaries are useful for storing and manipulating data when the order is not important and the data should be accessed by a key rather than an index. | Mutable | `{'key': 'value'}` |\n",
    "\n",
    "\n",
    "#### List\n",
    "\n",
    " - Lists are ordered collections of items. This means that the items in a list have a specific order and can be accessed using an index.\n",
    " - Lists are mutable, which means that the items in a list can be modified or replaced.\n",
    " - Lists can contain items of different data types, including integers, floats, strings, and other objects.\n",
    " - Lists can be nested, meaning that a list can contain other lists as items.\n",
    " - Lists can be modified using various built-in methods, such as `append`, `insert`, `remove`, and `sort`.\n",
    " - Lists can be accessed using **indexing**, **slicing**, and **iteration**."
   ]
  },
  {
   "cell_type": "code",
   "execution_count": 13,
   "id": "1fb28640",
   "metadata": {},
   "outputs": [
    {
     "name": "stdout",
     "output_type": "stream",
     "text": [
      "[1, 2, 3, 4, 5]\n",
      "1\n",
      "7\n",
      "[7, 2, 3, 4, 5, 'Avi']\n",
      "[7, 2, 3]\n"
     ]
    }
   ],
   "source": [
    "# List creation\n",
    "numbers = [1, 2, 3, 4, 5]\n",
    "print(numbers)\n",
    "\n",
    "# Access i-th element of List [0-based indexing]\n",
    "print(numbers[0]) # 1st number\n",
    "\n",
    "# Modify value\n",
    "numbers[0] = 7\n",
    "print(numbers[0])\n",
    "\n",
    "# Add elements to List, List can store data of multiple data types\n",
    "numbers.append('Avi')\n",
    "print(numbers)\n",
    "\n",
    "# List slicing\n",
    "print(numbers[0:3]) # First 3 numbers"
   ]
  },
  {
   "cell_type": "code",
   "execution_count": 14,
   "id": "beadc614",
   "metadata": {},
   "outputs": [
    {
     "name": "stdout",
     "output_type": "stream",
     "text": [
      "[7, 2, 3, 4, 5, 'Avi', 1, 3, 5, 7, 9]\n"
     ]
    }
   ],
   "source": [
    "odd_numbers = [1, 3, 5, 7, 9]\n",
    "\n",
    "# Joining two lists\n",
    "print(numbers + odd_numbers)"
   ]
  },
  {
   "cell_type": "markdown",
   "id": "9744388a",
   "metadata": {},
   "source": [
    "##### Shallow v Deep copy\n",
    "\n",
    "In Python, when you create a copy of a list, you have the option of creating a shallow copy or a deep copy.\n",
    "\n",
    "- A shallow copy creates a new list that references the same objects as the original list. This means that if you modify an object in the original list, it will also be modified in the copy.\n",
    "\n",
    "- A deep copy creates a new list with new copies of the objects in the original list. This means that if you modify an object in the original list, it will not be modified in the copy.\n",
    "\n",
    "Here is an example of creating a shallow and deep copy of a list in Python:"
   ]
  },
  {
   "cell_type": "code",
   "execution_count": 15,
   "id": "64c534dd",
   "metadata": {},
   "outputs": [
    {
     "name": "stdout",
     "output_type": "stream",
     "text": [
      "Original List: [['A', 2, 3], [4, 5, 6], [7, 8, 9]]\n",
      "\n",
      "Shallow Copy: [['A', 2, 3], [4, 5, 6], [7, 8, 9]]\n",
      "\n",
      "Deep Copy: [[1, 2, 3], [4, 5, 6], [7, 8, 9]]\n"
     ]
    }
   ],
   "source": [
    "import copy\n",
    "\n",
    "# Create a list with nested lists\n",
    "original_list = [[1, 2, 3], [4, 5, 6], [7, 8, 9]]\n",
    "\n",
    "# Create a shallow copy of the list\n",
    "shallow_copy = copy.copy(original_list)\n",
    "\n",
    "# Create a deep copy of the list\n",
    "deep_copy = copy.deepcopy(original_list)\n",
    "\n",
    "# Modify an item in the original list\n",
    "original_list[0][0] = 'A'\n",
    "\n",
    "print(f'Original List: {original_list}', end = '\\n\\n')     \n",
    "print(f'Shallow Copy: {shallow_copy}', end = '\\n\\n')       \n",
    "print(f'Deep Copy: {deep_copy}')         "
   ]
  },
  {
   "cell_type": "markdown",
   "id": "c5ff2799",
   "metadata": {},
   "source": [
    "#### Set\n",
    "\n",
    "- Sets are unordered collections of unique elements.\n",
    "- Sets are mutable, meaning that their elements can be changed.\n",
    "- Sets do not allow duplicate elements.\n",
    "- Sets do not support access to elements by indexing."
   ]
  },
  {
   "cell_type": "code",
   "execution_count": 16,
   "id": "0de734e3",
   "metadata": {},
   "outputs": [
    {
     "name": "stdout",
     "output_type": "stream",
     "text": [
      "{1, 2, 3, 4, 5}\n",
      "{1, 2, 3, 4, 5, 6}\n",
      "{1, 2, 3, 5, 6}\n",
      "True\n",
      "False\n",
      "5\n",
      "0\n",
      "[1, 2, 2, 3, 4, 5, 5, 5]\n",
      "{1, 2, 3, 4, 5}\n"
     ]
    }
   ],
   "source": [
    "# Create an empty set\n",
    "empty_set = set()\n",
    "\n",
    "# Create a set with elements\n",
    "numbers_set = {1, 2, 3, 4, 5}\n",
    "print(numbers_set) # {1, 2, 3, 4, 5}\n",
    "\n",
    "# Add an element to the set\n",
    "numbers_set.add(6)\n",
    "print(numbers_set) # {1, 2, 3, 4, 5, 6}\n",
    "\n",
    "# Remove an element from the set\n",
    "numbers_set.remove(4)\n",
    "print(numbers_set) # {1, 2, 3, 5, 6}\n",
    "\n",
    "# Check if an element is in the set\n",
    "print(6 in numbers_set) # True\n",
    "print(4 in numbers_set) # False\n",
    "\n",
    "# Get the length of the set\n",
    "print(len(numbers_set)) # 5\n",
    "\n",
    "# Clear the set\n",
    "numbers_set.clear()\n",
    "print(len(numbers_set)) # 0\n",
    "\n",
    "# List to Set\n",
    "numbers = [1, 2, 2, 3, 4, 5, 5, 5]\n",
    "set_of_numbers = set(numbers)\n",
    "print(numbers) # [1, 2, 2, 3, 4, 5, 5, 5]\n",
    "print(set_of_numbers) # {1, 2, 3, 4, 5}"
   ]
  },
  {
   "cell_type": "markdown",
   "id": "bd561b64",
   "metadata": {},
   "source": [
    "#### Tuples\n",
    "\n",
    "- Tuples are ordered collections of elements.\n",
    "- Tuples are immutable, meaning that their elements cannot be changed.\n",
    "- Tuples can contain duplicate elements."
   ]
  },
  {
   "cell_type": "code",
   "execution_count": 17,
   "id": "2a4434ab",
   "metadata": {},
   "outputs": [
    {
     "name": "stdout",
     "output_type": "stream",
     "text": [
      "(1, 2, 3, 4, 5, 8.8)\n",
      "3\n",
      "6\n"
     ]
    }
   ],
   "source": [
    "# Create an empty tuple\n",
    "empty_tuple = ()\n",
    "\n",
    "# Create a tuple with elements\n",
    "numbers_tuple = (1, 2, 3, 4, 5, 8.8)\n",
    "print(numbers_tuple)\n",
    "\n",
    "# Access an element in the tuple\n",
    "print(numbers_tuple[2]) # 3\n",
    "\n",
    "# Get the length of the tuple\n",
    "print(len(numbers_tuple)) # 5\n",
    "\n",
    "# Try to change an element in the tuple (will cause an error)\n",
    "## numbers_tuple[2] = 6"
   ]
  },
  {
   "cell_type": "markdown",
   "id": "fa98669a",
   "metadata": {},
   "source": [
    "#### Dictionary\n",
    "\n",
    "- Dictionaries are unordered collections of elements.\n",
    "- Dictionaries are mutable, meaning that their elements can be changed.\n",
    "- Dictionaries consist of key-value pairs, where each key is mapped to a value."
   ]
  },
  {
   "cell_type": "code",
   "execution_count": 18,
   "id": "525dc4a6",
   "metadata": {},
   "outputs": [
    {
     "name": "stdout",
     "output_type": "stream",
     "text": [
      "{'name': 'John', 'age': 20, 'courses': ['Math', 'Physics']}\n",
      "John\n",
      "{'name': 'John', 'age': 21, 'courses': ['Math', 'Physics']}\n",
      "3\n"
     ]
    }
   ],
   "source": [
    "# Create an empty dictionary\n",
    "empty_dict = {}\n",
    "\n",
    "# Create a dictionary with elements\n",
    "student_dict = {'name': 'John', 'age': 20, 'courses': ['Math', 'Physics']}\n",
    "print(student_dict)\n",
    "\n",
    "# Access an element in the dictionary\n",
    "print(student_dict['name']) # 'John'\n",
    "\n",
    "# Change an element in the dictionary\n",
    "student_dict['age'] = 21\n",
    "print(student_dict)\n",
    "\n",
    "# Get the length of the dictionary\n",
    "print(len(student_dict)) # 3"
   ]
  },
  {
   "cell_type": "markdown",
   "id": "96f47c53",
   "metadata": {},
   "source": [
    "> Lists are enclosed in `[]`.\n",
    "\n",
    "> Tuples are enclosed in `()`.   \n",
    "\n",
    "> Set are enclosed in `{}`.   \n",
    "\n",
    "> Dictionary are enclosed in `{}`, and have key-value pairs."
   ]
  },
  {
   "cell_type": "markdown",
   "id": "c5e7c370",
   "metadata": {},
   "source": [
    "### ✍🏻 How to Get User Input in Python 💬\n",
    "\n",
    "`input()` function: This function waits for the user to type in input and then returns the input as a string."
   ]
  },
  {
   "cell_type": "code",
   "execution_count": 19,
   "id": "62cc4357",
   "metadata": {},
   "outputs": [
    {
     "name": "stdout",
     "output_type": "stream",
     "text": [
      "Enter your name: Avi\n",
      "Avi\n"
     ]
    }
   ],
   "source": [
    "name = input('Enter your name: ')\n",
    "print(name)"
   ]
  },
  {
   "cell_type": "markdown",
   "id": "a855ee36",
   "metadata": {},
   "source": [
    "### 🔢 Python Operators: An Overview\n",
    "\n",
    "| Operator Type | Symbol  | Usage                     | Example            | Result |\n",
    "| :------------ | :-----: | :------------------------ | :----------------- | :----- |\n",
    "| Arithmetic    | +       | Addition                  | 3 + 2              | 5      |\n",
    "|               | \\-      | Subtraction               | 3 - 2              | 1      |\n",
    "|               | \\*      | Multiplication            | 3 \\* 2             | 6      |\n",
    "|               | /       | Division                  | 3 / 2              | 1.5    |\n",
    "|               | %       | Modulus                   | 3 % 2              | 1      |\n",
    "|               | \\*\\*    | Exponentiation            | 3 \\*\\* 2           | 9      |\n",
    "|               | //      | Floor division            | 3 // 2             | 1      |\n",
    "| Assignment    | =       | Assignment                | x = 2              |        |\n",
    "|               | +=      | Add and assign            | x += 2             |        |\n",
    "|               | \\-=     | Subtract and assign       | x -= 2             |        |\n",
    "|               | \\*=     | Multiply and assign       | x \\*= 2            |        |\n",
    "|               | /=      | Divide and assign         | x /= 2             |        |\n",
    "|               | %=      | Modulus and assign        | x %= 2             |        |\n",
    "|               | \\*\\*=   | Exponentiation and assign | x \\*\\*= 2          |        |\n",
    "|               | //=     | Floor division and assign | x //= 2            |        |\n",
    "| Logical       | and     | Logical and               | True and False     | FALSE  |\n",
    "|               | or      | Logical or                | True or False      | TRUE   |\n",
    "|               | not     | Logical not               | not True           | FALSE  |\n",
    "| Comparison    | =       | Equal                     | 3 == 2             | FALSE  |\n",
    "|               | !=      | Not equal                 | 3 != 2             | TRUE   |\n",
    "|               | <       | Less than                 | 3 < 2              | FALSE  |\n",
    "|               | \\>      | Greater than              | 3 > 2              | TRUE   |\n",
    "|               | <=      | Less than or equal to     | 3 <= 2             | FALSE  |\n",
    "|               | \\>=     | Greater than or equal to  | 3 >= 2             | TRUE   |\n",
    "| Identity      | is      | Identity                  | 3 is 3             | TRUE   |\n",
    "|               | is not  | Negated identity          | 3 is not 3         | FALSE  |\n",
    "| Membership    | in      | Membership                | 3 in [1, 2, 3]     | TRUE   |\n",
    "|               | not in  | Negated membership        | 3 not in [1, 2, 3] | FALSE  |"
   ]
  },
  {
   "cell_type": "markdown",
   "id": "ed93e755",
   "metadata": {},
   "source": [
    "### 🤨 Conditionals in Python\n",
    "In Python, there are two types of conditionals: `if, elif, and else` statements and `ternary operators`.\n",
    "\n",
    "#### If, Elif, and Else Statements\n",
    "\n",
    "`if` statements are used to test a condition. If the condition is `True`, then the code block under it is executed. If the condition is `False`, the code block is skipped.\n",
    "\n",
    "```python\n",
    "if condition:\n",
    "    # code block\n",
    "```\n",
    "\n",
    "You can also add an `elif` (else if) clause to test multiple conditions. If the first `if` condition is `False`, the `elif` condition is tested. If the `elif` condition is `True`, the code block under it is executed. This process continues until a `True` condition is found or there are no more `elif` clauses.\n",
    "\n",
    "```python\n",
    "if condition1:\n",
    "    # code block\n",
    "elif condition2:\n",
    "    # code block\n",
    "elif condition3:\n",
    "    # code block\n",
    "```\n",
    "\n",
    "If none of the conditions are `True`, you can use an `else` clause to specify a default action.\n",
    "```python\n",
    "if condition1:\n",
    "    # code block\n",
    "elif condition2:\n",
    "    # code block\n",
    "else:\n",
    "    # code block\n",
    "```"
   ]
  },
  {
   "cell_type": "code",
   "execution_count": 20,
   "id": "d81723b4",
   "metadata": {},
   "outputs": [
    {
     "name": "stdout",
     "output_type": "stream",
     "text": [
      "x is positive\n"
     ]
    }
   ],
   "source": [
    "x = 10\n",
    "\n",
    "if x < 0:\n",
    "    print(\"x is negative\")\n",
    "elif x == 0:\n",
    "    print(\"x is zero\")\n",
    "else:\n",
    "    print(\"x is positive\")"
   ]
  },
  {
   "cell_type": "markdown",
   "id": "a6bd186d",
   "metadata": {},
   "source": [
    "#### Ternary Operator\n",
    "\n",
    "Ternary operators are a shortened version of an `if, elif, and else` statement. They are used to test a condition and return a value based on the result.\n",
    "\n",
    "```python\n",
    "value = true_value if condition else false_value\n",
    "```\n",
    "\n",
    "If the condition is `True`, `true_value` is returned. If the condition is `False`, `false_value` is returned."
   ]
  },
  {
   "cell_type": "code",
   "execution_count": 21,
   "id": "070352c6",
   "metadata": {},
   "outputs": [
    {
     "name": "stdout",
     "output_type": "stream",
     "text": [
      "YES\n",
      "NO\n"
     ]
    }
   ],
   "source": [
    "is_6_even = 'YES' if 6 % 2 == 0 else 'NO'\n",
    "print(is_6_even)\n",
    "\n",
    "is_7_even = 'YES' if 7 % 2 == 0 else 'NO'\n",
    "print(is_7_even)"
   ]
  },
  {
   "cell_type": "markdown",
   "id": "54d057a4",
   "metadata": {},
   "source": [
    "### 🔂 Looping in Python\n",
    "\n",
    "There are two types of loops in Python:\n",
    "\n",
    "#### 1. For loop:\n",
    "\n",
    "`For` loops are used to iterate over a sequence (such as a list, tuple, or string). The loop will continue until all items in the sequence have been iterated over. The syntax for a for loop is:\n",
    "\n",
    "```python\n",
    "for item in sequence:\n",
    "    # code block to be executed\n",
    "```\n",
    "\n",
    "#### 2. While loop:\n",
    "\n",
    "`While` loops are used to repeatedly execute a code block as long as a certain condition is met. The syntax for a while loop is:\n",
    "\n",
    "```python\n",
    "while condition:\n",
    "    # code block to be executed\n",
    "```\n",
    "\n",
    "There are also several ways to **control** the flow of a loop in Python, such as `break` and `continue`.\n",
    "\n",
    "1. break\n",
    "The `break` statement is used to **exit** a loop early. For example, if we want to exit a loop when a certain condition is met, we can use the break statement.\n",
    "\n",
    "2. continue\n",
    "The `continue` statement is used to **skip** the rest of the **current iteration** of a loop and move on to the next iteration."
   ]
  },
  {
   "cell_type": "markdown",
   "id": "0eb2c854",
   "metadata": {},
   "source": [
    "### 🧑‍💼 Functions in Python\n",
    "\n",
    "In Python, a function is a group of related statements that perform a specific task. Functions help break our program into smaller and modular chunks.\n",
    "\n",
    "As you already know, Python gives you many built-in functions like `print()`, `len()`, etc. but you can also create your own functions. These functions are called user-defined functions.\n",
    "\n",
    "#### Creating a Function\n",
    "\n",
    "You can define a function using the `def` keyword followed by the function name, a pair of parentheses `()` and a colon `:`.\n",
    "\n",
    "The function body starts with an indentation and ends with the first unindented line. The syntax to create a function is:\n",
    "\n",
    "```python\n",
    "def function_name(parameters):\n",
    "    \"function_docstring\"\n",
    "    function_suite\n",
    "    return [expression]\n",
    "```\n",
    "\n",
    "#### Calling a function\n",
    "Once we have defined a function, we can call it from anywhere in the program. To call a function, we use the function name followed by a pair of parentheses `()`.\n",
    "\n",
    "```python\n",
    "function_name(parameters)\n",
    "```\n",
    "\n",
    "#### Function Arguments\n",
    "\n",
    "Information can be passed to functions as function arguments.\n",
    "\n",
    "There are four types of function arguments in Python:\n",
    "\n",
    "1. Required arguments\n",
    "2. Keyword arguments\n",
    "3. Default arguments\n",
    "4. Variable-length arguments\n",
    "\n",
    "\n",
    "#### Returning a Value from a Function\n",
    "\n",
    "To let a function return a value, use the `return` statement. The `return` statement can contain an expression that gets evaluated and returned.\n",
    "\n",
    "If you do not want to return a value from a function, use the `pass` statement.\n",
    "\n",
    "```python\n",
    "def function_name(parameters):\n",
    "    function_suite\n",
    "    return [expression]\n",
    "```\n",
    "\n",
    "#### Function Docstrings\n",
    "\n",
    "The first string after the function definition is called the docstring and is short for documentation string. It is used to explain in brief, what a function does.\n",
    "\n",
    "```python\n",
    "def function_name(parameters):\n",
    "    \"\"\"function_docstring\"\"\"\n",
    "    function_suite\n",
    "    return [expression]\n",
    "```\n",
    "\n",
    "#### The `pass` Statement\n",
    "\n",
    "`pass` is a null statement. The difference between a comment and a pass statement in Python is that while the interpreter ignores a comment entirely, pass is not ignored.\n",
    "\n",
    "However, nothing happens when `pass` is executed. It is used as a placeholder.\n",
    "\n",
    "For example:\n",
    "```python\n",
    "def function(args):\n",
    "    pass\n",
    "```\n",
    "\n",
    "This is commonly used when you are working on new code, allowing you to keep thinking about the other parts of the program. Later, you can implement the function.\n",
    "\n",
    "#### Lambda functions\n",
    "\n",
    "Lambda functions are anonymous functions in Python. They are small functions without a name. They are defined using the lambda keyword, followed by a list of arguments, a colon, and the function body. The syntax for defining a lambda function is as follows:\n",
    "\n",
    "```python\n",
    "lambda arguments: expression\n",
    "```\n",
    "\n",
    "Here, arguments is a list of arguments and expression is a single-line function body.\n",
    "\n",
    "Lambda functions are used when you need a small function for a short period of time. They are usually used as an argument to a higher-order function (a function that takes in other functions as arguments).\n",
    "\n",
    "Here is an example of a lambda function that takes in two arguments and returns their sum:\n",
    "\n",
    "```python\n",
    "add = lambda x, y: x + y\n",
    "add(2, 3)\n",
    "5\n",
    "```\n",
    "Lambda functions are also useful when you need to sort a list of items by a key. For example, suppose you have a list of tuples and you want to sort the list by the second element of the tuple. You can use a lambda function as the key to the `sorted()` function:\n",
    "\n",
    "```python\n",
    "lst = [(1, 'b'), (2, 'a'), (3, 'c')]\n",
    "lst.sort(key=lambda x: x[1])\n",
    "lst\n",
    "[(2, 'a'), (1, 'b'), (3, 'c')]\n",
    "```\n",
    "You can also use lambda functions with the `map()`, `filter()`, and `reduce()` functions.\n",
    "\n",
    "```python\n",
    "numbers = [1, 2, 3, 4, 5]\n",
    "squared = map(lambda x: x**2, numbers)\n",
    "squared\n",
    "[1, 4, 9, 16, 25]\n",
    "```"
   ]
  },
  {
   "cell_type": "markdown",
   "id": "f9340333",
   "metadata": {},
   "source": [
    "### 💪 List Comprehension: The Power Tool for Pythonistas\n",
    "\n",
    "List comprehension is a concise way to create a list. It is a combination of a `for loop` and the `append` method.\n",
    "\n",
    "Here is an example of a list comprehension:\n",
    "\n",
    "```python\n",
    "numbers = [1, 2, 3, 4, 5]\n",
    "squared_numbers = [number**2 for number in numbers]\n",
    "```\n",
    "\n",
    "This creates a new list called `squared_numbers` that contains the squares of the numbers in the `numbers` list.\n",
    "\n",
    "Here is an example of a list comprehension with a condition:\n",
    "\n",
    "```python\n",
    "numbers = [1, 2, 3, 4, 5]\n",
    "even_numbers = [number for number in numbers if number % 2 == 0]\n",
    "```\n",
    "\n",
    "This creates a new list called `even_numbers` that contains only the even numbers from the `numbers` list.\n",
    "\n",
    "List comprehension is a useful and concise way to create lists, especially when the list is based on an existing list or iterator."
   ]
  },
  {
   "cell_type": "markdown",
   "id": "ad843191",
   "metadata": {},
   "source": [
    "---\n",
    "\n",
    "Congratulations on making it to the end of this notebook! 🎉 In this notebook, we covered the fundamentals of Python which is required for machine learning and deep learning. We went over the basics of commenting, printing, variables and constants, data types, collections, user input, and operators. We also explored how to use conditionals and looping in our code, as well as how to define and use functions and lambda functions. Finally, we learned about list comprehension and how to use it to write concise and efficient code. \n",
    "\n",
    "With this foundation, we are now ready to dive deeper into the world of machine learning and use Python to build powerful models and solve real-world problems. So let's get to it! 🚀\n",
    "\n",
    "**🔥 \"We're on fire! Let's continue our journey into the world of ML and DL!\" 🔥**\n",
    "\n",
    "![🔥 \"We're on fire! Let's continue our journey into the world of ML and DL!\" 🔥](https://www.system-concepts.com/wp-content/uploads/2020/02/excited-minions-gif.gif)"
   ]
  }
 ],
 "metadata": {
  "kernelspec": {
   "display_name": "Python 3 (ipykernel)",
   "language": "python",
   "name": "python3"
  },
  "language_info": {
   "codemirror_mode": {
    "name": "ipython",
    "version": 3
   },
   "file_extension": ".py",
   "mimetype": "text/x-python",
   "name": "python",
   "nbconvert_exporter": "python",
   "pygments_lexer": "ipython3",
   "version": "3.9.13"
  }
 },
 "nbformat": 4,
 "nbformat_minor": 5
}
